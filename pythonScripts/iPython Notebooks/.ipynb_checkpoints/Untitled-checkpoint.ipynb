{
 "cells": [
  {
   "cell_type": "code",
   "execution_count": 7,
   "metadata": {
    "collapsed": true
   },
   "outputs": [],
   "source": [
    "import networkx as nx\n",
    "import os\n",
    "import sys\n",
    "from matplotlib import pyplot, patches\n",
    "import h5py as h5\n",
    "\n",
    "def draw_adjacency_matrix(G, node_order=None, partitions=[], colors=[]):\n",
    "    \"\"\"\n",
    "    - G is a netorkx graph\n",
    "    - node_order (optional) is a list of nodes, where each node in G\n",
    "          appears exactly once\n",
    "    - partitions is a list of node lists, where each node in G appears\n",
    "          in exactly one node list\n",
    "    - colors is a list of strings indicating what color each\n",
    "          partition should be\n",
    "    If partitions is specified, the same number of colors needs to be\n",
    "    specified.\n",
    "    \"\"\"\n",
    "    adjacency_matrix = nx.to_numpy_matrix(G, dtype=np.bool, nodelist=node_order)\n",
    "\n",
    "    #Plot adjacency matrix in toned-down black and white\n",
    "    fig = pyplot.figure(figsize=(5, 5)) # in inches\n",
    "    pyplot.imshow(adjacency_matrix,\n",
    "                  cmap=\"Greys\",\n",
    "                  interpolation=\"none\")\n",
    "    \n",
    "    # The rest is just if you have sorted nodes by a partition and want to\n",
    "    # highlight the module boundaries\n",
    "    assert len(partitions) == len(colors)\n",
    "    ax = pyplot.gca()\n",
    "    for partition, color in zip(partitions, colors):\n",
    "        current_idx = 0\n",
    "        for module in partition:\n",
    "            ax.add_patch(patches.Rectangle((current_idx, current_idx),\n",
    "                                          len(module), # Width\n",
    "                                          len(module), # Height\n",
    "                                          facecolor=\"none\",\n",
    "                                          edgecolor=color,\n",
    "                                          linewidth=\"1\"))\n",
    "            current_idx += len(module)"
   ]
  },
  {
   "cell_type": "code",
   "execution_count": 8,
   "metadata": {
    "collapsed": false
   },
   "outputs": [],
   "source": [
    "filenames = []\n",
    "path = \"\"\n",
    "listFile = '/Users/pascal/Coding/uni/Masterarbeit/testing_list.txt'\n",
    "path = os.path.dirname(os.path.abspath(listFile))"
   ]
  },
  {
   "cell_type": "code",
   "execution_count": 9,
   "metadata": {
    "collapsed": true
   },
   "outputs": [],
   "source": [
    "with open(listFile) as f:\n",
    "    filenames = f.readlines()"
   ]
  },
  {
   "cell_type": "code",
   "execution_count": null,
   "metadata": {
    "collapsed": false
   },
   "outputs": [],
   "source": [
    "tradeMatriceList = []\n",
    "ivar =  0\n",
    "alltradeTimes = []\n",
    "graphs = []\n",
    "for h5file in filenames:\n",
    "    f = h5.File((path+\"/\"+h5file).strip())\n",
    "    ivar += 1\n",
    "    try:\n",
    "        h5tradeTimes = f['BVD_Trade_Times']\n",
    "        tradeTimes = h5tradeTimes[:].astype(int)\n",
    "        for time in tradeTimes:\n",
    "            alltradeTimes.append(time)\n",
    "            dataSetName = \"Trades_t\" + str(time)\n",
    "            h5Matrix = f[dataSetName]\n",
    "            intMatrix = h5Matrix[:,:].astype(int)\n",
    "            tradeMatriceList.append(intMatrix)\n",
    "            graphs.append(nx.from_numpy_matrix(intMatrix))\n",
    "    except Exception:\n",
    "        pass\n",
    "    "
   ]
  },
  {
   "cell_type": "code",
   "execution_count": 46,
   "metadata": {
    "collapsed": false
   },
   "outputs": [
    {
     "data": {
      "text/plain": [
       "4285"
      ]
     },
     "execution_count": 46,
     "metadata": {},
     "output_type": "execute_result"
    }
   ],
   "source": [
    "len(tradeMatriceList)"
   ]
  },
  {
   "cell_type": "code",
   "execution_count": 47,
   "metadata": {
    "collapsed": false
   },
   "outputs": [
    {
     "data": {
      "text/plain": [
       "4285"
      ]
     },
     "execution_count": 47,
     "metadata": {},
     "output_type": "execute_result"
    }
   ],
   "source": [
    "len(alltradeTimes)"
   ]
  },
  {
   "cell_type": "code",
   "execution_count": null,
   "metadata": {
    "collapsed": true
   },
   "outputs": [],
   "source": [
    "len"
   ]
  }
 ],
 "metadata": {
  "anaconda-cloud": {},
  "kernelspec": {
   "display_name": "Python [conda root]",
   "language": "python",
   "name": "conda-root-py"
  },
  "language_info": {
   "codemirror_mode": {
    "name": "ipython",
    "version": 2
   },
   "file_extension": ".py",
   "mimetype": "text/x-python",
   "name": "python",
   "nbconvert_exporter": "python",
   "pygments_lexer": "ipython2",
   "version": "2.7.12"
  }
 },
 "nbformat": 4,
 "nbformat_minor": 1
}
